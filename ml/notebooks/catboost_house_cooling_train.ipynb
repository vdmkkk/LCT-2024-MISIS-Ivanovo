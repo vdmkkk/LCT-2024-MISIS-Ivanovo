{
 "cells": [
  {
   "cell_type": "markdown",
   "id": "e52d364d",
   "metadata": {},
   "source": [
    "# Imports"
   ]
  },
  {
   "cell_type": "code",
   "execution_count": 107,
   "id": "9ee48856",
   "metadata": {},
   "outputs": [],
   "source": [
    "import pandas as pd\n",
    "from catboost import CatBoostRegressor, Pool\n",
    "from sklearn.model_selection import train_test_split\n",
    "from sklearn.metrics import mean_squared_error as MSE, mean_absolute_error as MAE"
   ]
  },
  {
   "cell_type": "markdown",
   "id": "7e9ecc31",
   "metadata": {},
   "source": [
    "# Data"
   ]
  },
  {
   "cell_type": "code",
   "execution_count": 55,
   "id": "f5c22d92",
   "metadata": {},
   "outputs": [
    {
     "data": {
      "text/html": [
       "<div>\n",
       "<style scoped>\n",
       "    .dataframe tbody tr th:only-of-type {\n",
       "        vertical-align: middle;\n",
       "    }\n",
       "\n",
       "    .dataframe tbody tr th {\n",
       "        vertical-align: top;\n",
       "    }\n",
       "\n",
       "    .dataframe thead th {\n",
       "        text-align: right;\n",
       "    }\n",
       "</style>\n",
       "<table border=\"1\" class=\"dataframe\">\n",
       "  <thead>\n",
       "    <tr style=\"text-align: right;\">\n",
       "      <th></th>\n",
       "      <th>unom</th>\n",
       "      <th>t_inside</th>\n",
       "      <th>c1</th>\n",
       "      <th>ro1</th>\n",
       "      <th>V</th>\n",
       "      <th>alpha</th>\n",
       "      <th>A</th>\n",
       "      <th>t_in_5_hours</th>\n",
       "      <th>t_in_10_hours</th>\n",
       "      <th>t_in_15_hours</th>\n",
       "      <th>t_in_20_hours</th>\n",
       "      <th>t_in_25_hours</th>\n",
       "      <th>t_in_30_hours</th>\n",
       "      <th>hours_untill_cooling</th>\n",
       "    </tr>\n",
       "  </thead>\n",
       "  <tbody>\n",
       "    <tr>\n",
       "      <th>0</th>\n",
       "      <td>55856.0</td>\n",
       "      <td>24</td>\n",
       "      <td>1158</td>\n",
       "      <td>933</td>\n",
       "      <td>11784</td>\n",
       "      <td>2.991059</td>\n",
       "      <td>2494.384092</td>\n",
       "      <td>2</td>\n",
       "      <td>-2</td>\n",
       "      <td>0</td>\n",
       "      <td>1</td>\n",
       "      <td>2</td>\n",
       "      <td>-1</td>\n",
       "      <td>13</td>\n",
       "    </tr>\n",
       "    <tr>\n",
       "      <th>1</th>\n",
       "      <td>72164.0</td>\n",
       "      <td>21</td>\n",
       "      <td>939</td>\n",
       "      <td>878</td>\n",
       "      <td>5715</td>\n",
       "      <td>3.102195</td>\n",
       "      <td>1571.267005</td>\n",
       "      <td>-12</td>\n",
       "      <td>-17</td>\n",
       "      <td>-20</td>\n",
       "      <td>-17</td>\n",
       "      <td>-20</td>\n",
       "      <td>-17</td>\n",
       "      <td>2</td>\n",
       "    </tr>\n",
       "    <tr>\n",
       "      <th>2</th>\n",
       "      <td>36318.0</td>\n",
       "      <td>25</td>\n",
       "      <td>1237</td>\n",
       "      <td>1340</td>\n",
       "      <td>9651</td>\n",
       "      <td>2.442125</td>\n",
       "      <td>1925.093244</td>\n",
       "      <td>14</td>\n",
       "      <td>13</td>\n",
       "      <td>8</td>\n",
       "      <td>12</td>\n",
       "      <td>8</td>\n",
       "      <td>14</td>\n",
       "      <td>65</td>\n",
       "    </tr>\n",
       "    <tr>\n",
       "      <th>3</th>\n",
       "      <td>79756.0</td>\n",
       "      <td>21</td>\n",
       "      <td>896</td>\n",
       "      <td>1283</td>\n",
       "      <td>7974</td>\n",
       "      <td>2.356661</td>\n",
       "      <td>2314.849455</td>\n",
       "      <td>0</td>\n",
       "      <td>1</td>\n",
       "      <td>-4</td>\n",
       "      <td>0</td>\n",
       "      <td>2</td>\n",
       "      <td>3</td>\n",
       "      <td>7</td>\n",
       "    </tr>\n",
       "    <tr>\n",
       "      <th>4</th>\n",
       "      <td>3673.0</td>\n",
       "      <td>24</td>\n",
       "      <td>886</td>\n",
       "      <td>1119</td>\n",
       "      <td>7350</td>\n",
       "      <td>2.645827</td>\n",
       "      <td>2656.313235</td>\n",
       "      <td>-18</td>\n",
       "      <td>-19</td>\n",
       "      <td>-21</td>\n",
       "      <td>-16</td>\n",
       "      <td>-21</td>\n",
       "      <td>-19</td>\n",
       "      <td>4</td>\n",
       "    </tr>\n",
       "    <tr>\n",
       "      <th>...</th>\n",
       "      <td>...</td>\n",
       "      <td>...</td>\n",
       "      <td>...</td>\n",
       "      <td>...</td>\n",
       "      <td>...</td>\n",
       "      <td>...</td>\n",
       "      <td>...</td>\n",
       "      <td>...</td>\n",
       "      <td>...</td>\n",
       "      <td>...</td>\n",
       "      <td>...</td>\n",
       "      <td>...</td>\n",
       "      <td>...</td>\n",
       "      <td>...</td>\n",
       "    </tr>\n",
       "    <tr>\n",
       "      <th>7995</th>\n",
       "      <td>52132.0</td>\n",
       "      <td>24</td>\n",
       "      <td>1149</td>\n",
       "      <td>1337</td>\n",
       "      <td>11013</td>\n",
       "      <td>2.838799</td>\n",
       "      <td>2056.451312</td>\n",
       "      <td>10</td>\n",
       "      <td>8</td>\n",
       "      <td>4</td>\n",
       "      <td>6</td>\n",
       "      <td>7</td>\n",
       "      <td>7</td>\n",
       "      <td>35</td>\n",
       "    </tr>\n",
       "    <tr>\n",
       "      <th>7996</th>\n",
       "      <td>57369.0</td>\n",
       "      <td>22</td>\n",
       "      <td>1229</td>\n",
       "      <td>943</td>\n",
       "      <td>8058</td>\n",
       "      <td>2.872421</td>\n",
       "      <td>2062.673993</td>\n",
       "      <td>9</td>\n",
       "      <td>8</td>\n",
       "      <td>3</td>\n",
       "      <td>7</td>\n",
       "      <td>5</td>\n",
       "      <td>7</td>\n",
       "      <td>11</td>\n",
       "    </tr>\n",
       "    <tr>\n",
       "      <th>7997</th>\n",
       "      <td>50555.0</td>\n",
       "      <td>23</td>\n",
       "      <td>1037</td>\n",
       "      <td>930</td>\n",
       "      <td>5028</td>\n",
       "      <td>3.037732</td>\n",
       "      <td>1701.801399</td>\n",
       "      <td>5</td>\n",
       "      <td>4</td>\n",
       "      <td>1</td>\n",
       "      <td>1</td>\n",
       "      <td>1</td>\n",
       "      <td>3</td>\n",
       "      <td>7</td>\n",
       "    </tr>\n",
       "    <tr>\n",
       "      <th>7998</th>\n",
       "      <td>40903.0</td>\n",
       "      <td>22</td>\n",
       "      <td>1271</td>\n",
       "      <td>1188</td>\n",
       "      <td>3693</td>\n",
       "      <td>2.562508</td>\n",
       "      <td>1882.891394</td>\n",
       "      <td>-5</td>\n",
       "      <td>-5</td>\n",
       "      <td>-12</td>\n",
       "      <td>-9</td>\n",
       "      <td>-7</td>\n",
       "      <td>-7</td>\n",
       "      <td>4</td>\n",
       "    </tr>\n",
       "    <tr>\n",
       "      <th>7999</th>\n",
       "      <td>58867.0</td>\n",
       "      <td>27</td>\n",
       "      <td>1234</td>\n",
       "      <td>1122</td>\n",
       "      <td>6924</td>\n",
       "      <td>2.881383</td>\n",
       "      <td>1630.587624</td>\n",
       "      <td>5</td>\n",
       "      <td>-1</td>\n",
       "      <td>0</td>\n",
       "      <td>2</td>\n",
       "      <td>3</td>\n",
       "      <td>3</td>\n",
       "      <td>24</td>\n",
       "    </tr>\n",
       "  </tbody>\n",
       "</table>\n",
       "<p>8000 rows × 14 columns</p>\n",
       "</div>"
      ],
      "text/plain": [
       "         unom  t_inside    c1   ro1      V     alpha            A  \\\n",
       "0     55856.0        24  1158   933  11784  2.991059  2494.384092   \n",
       "1     72164.0        21   939   878   5715  3.102195  1571.267005   \n",
       "2     36318.0        25  1237  1340   9651  2.442125  1925.093244   \n",
       "3     79756.0        21   896  1283   7974  2.356661  2314.849455   \n",
       "4      3673.0        24   886  1119   7350  2.645827  2656.313235   \n",
       "...       ...       ...   ...   ...    ...       ...          ...   \n",
       "7995  52132.0        24  1149  1337  11013  2.838799  2056.451312   \n",
       "7996  57369.0        22  1229   943   8058  2.872421  2062.673993   \n",
       "7997  50555.0        23  1037   930   5028  3.037732  1701.801399   \n",
       "7998  40903.0        22  1271  1188   3693  2.562508  1882.891394   \n",
       "7999  58867.0        27  1234  1122   6924  2.881383  1630.587624   \n",
       "\n",
       "      t_in_5_hours  t_in_10_hours  t_in_15_hours  t_in_20_hours  \\\n",
       "0                2             -2              0              1   \n",
       "1              -12            -17            -20            -17   \n",
       "2               14             13              8             12   \n",
       "3                0              1             -4              0   \n",
       "4              -18            -19            -21            -16   \n",
       "...            ...            ...            ...            ...   \n",
       "7995            10              8              4              6   \n",
       "7996             9              8              3              7   \n",
       "7997             5              4              1              1   \n",
       "7998            -5             -5            -12             -9   \n",
       "7999             5             -1              0              2   \n",
       "\n",
       "      t_in_25_hours  t_in_30_hours  hours_untill_cooling  \n",
       "0                 2             -1                    13  \n",
       "1               -20            -17                     2  \n",
       "2                 8             14                    65  \n",
       "3                 2              3                     7  \n",
       "4               -21            -19                     4  \n",
       "...             ...            ...                   ...  \n",
       "7995              7              7                    35  \n",
       "7996              5              7                    11  \n",
       "7997              1              3                     7  \n",
       "7998             -7             -7                     4  \n",
       "7999              3              3                    24  \n",
       "\n",
       "[8000 rows x 14 columns]"
      ]
     },
     "execution_count": 55,
     "metadata": {},
     "output_type": "execute_result"
    }
   ],
   "source": [
    "data = pd.read_csv('hours_untill_house_cooling.csv')\n",
    "data.head()"
   ]
  },
  {
   "cell_type": "markdown",
   "id": "9859c722",
   "metadata": {},
   "source": [
    "# Model training"
   ]
  },
  {
   "cell_type": "code",
   "execution_count": 109,
   "id": "76446616",
   "metadata": {},
   "outputs": [],
   "source": [
    "# train_test_splir\n",
    "X_train, X_test, y_train, y_test = train_test_split(data.drop('hours_untill_cooling', axis=1),\n",
    "                                                    data['hours_untill_cooling'], \n",
    "                                                    random_state=52)"
   ]
  },
  {
   "cell_type": "code",
   "execution_count": 110,
   "id": "aec7f93f",
   "metadata": {},
   "outputs": [],
   "source": [
    "catboost_model = CatBoostRegressor(n_estimators=1000,\n",
    "                                   loss_function='RMSE',\n",
    "                                   max_depth=6, \n",
    "                                   random_state=52,\n",
    "                                   verbose=100,\n",
    "                                  )"
   ]
  },
  {
   "cell_type": "code",
   "execution_count": 119,
   "id": "b7a2c3a5",
   "metadata": {},
   "outputs": [
    {
     "name": "stdout",
     "output_type": "stream",
     "text": [
      "Learning rate set to 0.067463\n",
      "0:\tlearn: 11.3255674\ttest: 11.7942372\tbest: 11.7942372 (0)\ttotal: 2.28ms\tremaining: 2.28s\n",
      "100:\tlearn: 2.1931732\ttest: 2.8663426\tbest: 2.8663426 (100)\ttotal: 107ms\tremaining: 956ms\n",
      "200:\tlearn: 1.4366262\ttest: 2.1888736\tbest: 2.1888736 (200)\ttotal: 211ms\tremaining: 838ms\n",
      "300:\tlearn: 1.1391500\ttest: 1.9555782\tbest: 1.9555782 (300)\ttotal: 311ms\tremaining: 722ms\n",
      "400:\tlearn: 0.9670420\ttest: 1.8386054\tbest: 1.8386054 (400)\ttotal: 417ms\tremaining: 622ms\n",
      "500:\tlearn: 0.8560863\ttest: 1.7703893\tbest: 1.7701448 (499)\ttotal: 521ms\tremaining: 519ms\n",
      "600:\tlearn: 0.7721113\ttest: 1.7353184\tbest: 1.7353184 (600)\ttotal: 669ms\tremaining: 444ms\n",
      "700:\tlearn: 0.7052069\ttest: 1.7109195\tbest: 1.7106931 (699)\ttotal: 777ms\tremaining: 331ms\n",
      "800:\tlearn: 0.6490749\ttest: 1.6919176\tbest: 1.6919176 (800)\ttotal: 883ms\tremaining: 219ms\n",
      "900:\tlearn: 0.6063572\ttest: 1.6764590\tbest: 1.6762418 (892)\ttotal: 1.01s\tremaining: 111ms\n",
      "999:\tlearn: 0.5689359\ttest: 1.6670250\tbest: 1.6670250 (999)\ttotal: 1.13s\tremaining: 0us\n",
      "\n",
      "bestTest = 1.667024954\n",
      "bestIteration = 999\n",
      "\n"
     ]
    },
    {
     "data": {
      "text/plain": [
       "<catboost.core.CatBoostRegressor at 0x17b285090>"
      ]
     },
     "execution_count": 119,
     "metadata": {},
     "output_type": "execute_result"
    }
   ],
   "source": [
    "train_pool = Pool(X_train, y_train)\n",
    "test_pool = Pool(X_test, y_test)\n",
    "\n",
    "catboost_model.fit(train_pool, eval_set=test_pool, early_stopping_rounds=50, use_best_model=True)"
   ]
  },
  {
   "cell_type": "markdown",
   "id": "b5fdc220",
   "metadata": {},
   "source": [
    "# Test"
   ]
  },
  {
   "cell_type": "code",
   "execution_count": 120,
   "id": "53e45795",
   "metadata": {},
   "outputs": [],
   "source": [
    "y_pred = catboost_model.predict(X_test)"
   ]
  },
  {
   "cell_type": "code",
   "execution_count": 121,
   "id": "539d89cb",
   "metadata": {},
   "outputs": [
    {
     "data": {
      "text/plain": [
       "2.778972198812155"
      ]
     },
     "execution_count": 121,
     "metadata": {},
     "output_type": "execute_result"
    }
   ],
   "source": [
    "MSE(y_test, y_pred)"
   ]
  },
  {
   "cell_type": "code",
   "execution_count": 122,
   "id": "ecd41673",
   "metadata": {},
   "outputs": [
    {
     "data": {
      "text/plain": [
       "0.9067493449351216"
      ]
     },
     "execution_count": 122,
     "metadata": {},
     "output_type": "execute_result"
    }
   ],
   "source": [
    "MAE(y_test, y_pred)"
   ]
  },
  {
   "cell_type": "markdown",
   "id": "386731a4",
   "metadata": {},
   "source": [
    "# Save modek"
   ]
  },
  {
   "cell_type": "code",
   "execution_count": 123,
   "id": "90923fc8",
   "metadata": {},
   "outputs": [],
   "source": [
    "catboost_model.save_model('catboost_for_house_cooling.cbm')"
   ]
  },
  {
   "cell_type": "code",
   "execution_count": null,
   "id": "1756b629",
   "metadata": {},
   "outputs": [],
   "source": []
  }
 ],
 "metadata": {
  "kernelspec": {
   "display_name": "Python 3 (ipykernel)",
   "language": "python",
   "name": "python3"
  },
  "language_info": {
   "codemirror_mode": {
    "name": "ipython",
    "version": 3
   },
   "file_extension": ".py",
   "mimetype": "text/x-python",
   "name": "python",
   "nbconvert_exporter": "python",
   "pygments_lexer": "ipython3",
   "version": "3.11.5"
  }
 },
 "nbformat": 4,
 "nbformat_minor": 5
}
